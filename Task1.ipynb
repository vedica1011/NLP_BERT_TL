{
  "nbformat": 4,
  "nbformat_minor": 0,
  "metadata": {
    "colab": {
      "provenance": [],
      "authorship_tag": "ABX9TyNcT6uBnzs4nhippgkVi0HE",
      "include_colab_link": true
    },
    "kernelspec": {
      "name": "python3",
      "display_name": "Python 3"
    },
    "language_info": {
      "name": "python"
    }
  },
  "cells": [
    {
      "cell_type": "markdown",
      "metadata": {
        "id": "view-in-github",
        "colab_type": "text"
      },
      "source": [
        "<a href=\"https://colab.research.google.com/github/vedica1011/NLP_BERT_TL/blob/main/Task1.ipynb\" target=\"_parent\"><img src=\"https://colab.research.google.com/assets/colab-badge.svg\" alt=\"Open In Colab\"/></a>"
      ]
    },
    {
      "cell_type": "code",
      "execution_count": null,
      "metadata": {
        "id": "kEIytD04Rubq"
      },
      "outputs": [],
      "source": [
        "import numpy as np\n",
        "import tensorflow as tf\n",
        "from tensorflow import keras\n",
        "import string, os\n",
        "import re\n",
        "from tqdm import tqdm\n",
        "import pandas as pd\n",
        "import matplotlib.pyplot as plt\n",
        "import pickle\n",
        "import tensorflow as tf\n",
        "from sklearn.model_selection import train_test_split\n",
        "from tensorflow.keras.preprocessing.sequence import pad_sequences\n",
        "from sklearn.preprocessing import LabelEncoder\n",
        "from tensorflow.keras.models import Model\n",
        "from tensorflow.keras.layers import Input, Embedding, LSTM, Dense\n",
        "import string\n",
        "import re"
      ]
    },
    {
      "cell_type": "code",
      "source": [
        "pd.set_option('display.max_columns', None)  # Display all columns\n",
        "pd.set_option('display.max_colwidth', None)"
      ],
      "metadata": {
        "id": "Lcfr0Z0rSfEX"
      },
      "execution_count": null,
      "outputs": []
    },
    {
      "cell_type": "code",
      "source": [
        "chat_data = pd.read_excel(\"topical_chat.csv.xlsx\")"
      ],
      "metadata": {
        "id": "VImBxYC4Shpx"
      },
      "execution_count": null,
      "outputs": []
    },
    {
      "cell_type": "code",
      "source": [
        "chat_data = chat_data.dropna()\n",
        "chat_data.isnull().sum()"
      ],
      "metadata": {
        "colab": {
          "base_uri": "https://localhost:8080/"
        },
        "id": "_5xo23EaSjlE",
        "outputId": "ba43a01f-54a7-4a81-b9c9-58603d78c88c"
      },
      "execution_count": null,
      "outputs": [
        {
          "output_type": "execute_result",
          "data": {
            "text/plain": [
              "conversation_id    0\n",
              "message            0\n",
              "sentiment          0\n",
              "dtype: int64"
            ]
          },
          "metadata": {},
          "execution_count": 5
        }
      ]
    },
    {
      "cell_type": "code",
      "source": [
        "def clean_text(text):\n",
        "    pattern = r'[^a-zA-Z0-9\\s]'\n",
        "    cleaned_text = re.sub(pattern, '', text)\n",
        "    return cleaned_text"
      ],
      "metadata": {
        "id": "NF1-OqChSpI2"
      },
      "execution_count": null,
      "outputs": []
    },
    {
      "cell_type": "code",
      "source": [
        "chat_data['message'] = chat_data['message'].apply(lambda x:str(x).lower())\n",
        "chat_data['message'] = chat_data['message'].apply(lambda x: clean_text(str(x)))"
      ],
      "metadata": {
        "id": "GTUCXbRATBHH"
      },
      "execution_count": null,
      "outputs": []
    },
    {
      "cell_type": "code",
      "source": [
        "tokenizer = tf.keras.preprocessing.text.Tokenizer()\n",
        "tokenizer.fit_on_texts(chat_data['message'])\n",
        "X = tokenizer.texts_to_sequences(chat_data['message'])"
      ],
      "metadata": {
        "id": "PFvYz2VxTJOF"
      },
      "execution_count": null,
      "outputs": []
    },
    {
      "cell_type": "code",
      "source": [
        "max_sequence_length = max(len(sequence) for sequence in X)\n",
        "max_sequence_length"
      ],
      "metadata": {
        "colab": {
          "base_uri": "https://localhost:8080/"
        },
        "id": "avzKexVATQIo",
        "outputId": "d7d75d8d-0c32-4614-a0a7-288c40f7ac6a"
      },
      "execution_count": null,
      "outputs": [
        {
          "output_type": "execute_result",
          "data": {
            "text/plain": [
              "127"
            ]
          },
          "metadata": {},
          "execution_count": 10
        }
      ]
    },
    {
      "cell_type": "code",
      "source": [
        "X_padded = pad_sequences(X, maxlen=max_sequence_length)"
      ],
      "metadata": {
        "id": "E515iUG9TU27"
      },
      "execution_count": null,
      "outputs": []
    },
    {
      "cell_type": "code",
      "source": [
        "label_encoder = LabelEncoder()\n",
        "y = label_encoder.fit_transform(chat_data['sentiment'])\n",
        "#y_train_one_hot = tf.keras.utils.to_categorical(y,num_classes=chat_data['sentiment'].nunique())"
      ],
      "metadata": {
        "id": "Rh52svYJTZH5"
      },
      "execution_count": null,
      "outputs": []
    },
    {
      "cell_type": "code",
      "source": [
        "X_train, X_val, y_train, y_val = train_test_split(X_padded, y, test_size=0.2, random_state=42)"
      ],
      "metadata": {
        "id": "zIRdJ7m5Tk4P"
      },
      "execution_count": null,
      "outputs": []
    },
    {
      "cell_type": "code",
      "source": [],
      "metadata": {
        "id": "O9I-yxYxUDkG"
      },
      "execution_count": null,
      "outputs": []
    },
    {
      "cell_type": "markdown",
      "source": [],
      "metadata": {
        "id": "i3RMm_l-TdhM"
      }
    },
    {
      "cell_type": "code",
      "source": [
        "vocab_size = len(tokenizer.word_index) + 1\n",
        "vocab_size"
      ],
      "metadata": {
        "colab": {
          "base_uri": "https://localhost:8080/"
        },
        "id": "XOOl5y5ATr7C",
        "outputId": "ba7455d4-f11b-43ff-d0ee-6ee0d4643cd3"
      },
      "execution_count": null,
      "outputs": [
        {
          "output_type": "execute_result",
          "data": {
            "text/plain": [
              "42082"
            ]
          },
          "metadata": {},
          "execution_count": 23
        }
      ]
    },
    {
      "cell_type": "code",
      "source": [
        "from tensorflow.keras.models import Sequential\n",
        "from tensorflow.keras.layers import Embedding, LSTM, Dense,GRU,Bidirectional\n",
        "\n",
        "embedding_dim = 100\n",
        "num_classes = 9\n",
        "model = Sequential()\n",
        "model.add(Embedding(input_dim=vocab_size, output_dim=embedding_dim, input_length=max_sequence_length))\n",
        "model.add(Bidirectional(GRU(units=128, dropout=0.2, recurrent_dropout=0.2)))\n",
        "\n",
        "model.add(Dense(num_classes, activation='softmax'))\n",
        "model.compile(optimizer='adam', loss='sparse_categorical_crossentropy', metrics=['accuracy'])\n",
        "model.summary()"
      ],
      "metadata": {
        "colab": {
          "base_uri": "https://localhost:8080/"
        },
        "id": "IKx4T4WoTsZd",
        "outputId": "7971461c-236f-4461-a036-81df2b71f795"
      },
      "execution_count": null,
      "outputs": [
        {
          "output_type": "stream",
          "name": "stdout",
          "text": [
            "Model: \"sequential_2\"\n",
            "_________________________________________________________________\n",
            " Layer (type)                Output Shape              Param #   \n",
            "=================================================================\n",
            " embedding_2 (Embedding)     (None, 127, 100)          4208200   \n",
            "                                                                 \n",
            " bidirectional_2 (Bidirecti  (None, 256)               176640    \n",
            " onal)                                                           \n",
            "                                                                 \n",
            " dense_2 (Dense)             (None, 9)                 2313      \n",
            "                                                                 \n",
            "=================================================================\n",
            "Total params: 4387153 (16.74 MB)\n",
            "Trainable params: 4387153 (16.74 MB)\n",
            "Non-trainable params: 0 (0.00 Byte)\n",
            "_________________________________________________________________\n"
          ]
        }
      ]
    },
    {
      "cell_type": "code",
      "source": [
        "from tensorflow.keras.callbacks import EarlyStopping\n",
        "\n",
        "# Define early stopping callback\n",
        "early_stopping = EarlyStopping(monitor='val_loss', patience=3, restore_best_weights=True)\n",
        "\n",
        "# Train the model\n",
        "history = model.fit(X_train, y_train, validation_data=(X_val, y_val), epochs=10, batch_size=64, callbacks=[early_stopping])\n"
      ],
      "metadata": {
        "colab": {
          "base_uri": "https://localhost:8080/"
        },
        "id": "adf9M74QTyxb",
        "outputId": "a156fa2e-253c-4024-cc69-2dccc163c949"
      },
      "execution_count": null,
      "outputs": [
        {
          "output_type": "stream",
          "name": "stdout",
          "text": [
            "Epoch 1/10\n",
            "2355/2355 [==============================] - 1987s 841ms/step - loss: 1.2960 - accuracy: 0.4757 - val_loss: 1.2507 - val_accuracy: 0.4890\n",
            "Epoch 2/10\n",
            "2355/2355 [==============================] - 1960s 832ms/step - loss: 1.1693 - accuracy: 0.5363 - val_loss: 1.2323 - val_accuracy: 0.5000\n",
            "Epoch 3/10\n",
            "2355/2355 [==============================] - 1958s 831ms/step - loss: 1.0699 - accuracy: 0.5829 - val_loss: 1.2819 - val_accuracy: 0.4873\n",
            "Epoch 4/10\n",
            "2355/2355 [==============================] - 1955s 830ms/step - loss: 0.9665 - accuracy: 0.6290 - val_loss: 1.3447 - val_accuracy: 0.4871\n",
            "Epoch 5/10\n",
            "2355/2355 [==============================] - 1929s 819ms/step - loss: 0.8717 - accuracy: 0.6664 - val_loss: 1.4477 - val_accuracy: 0.4772\n"
          ]
        }
      ]
    },
    {
      "cell_type": "code",
      "source": [
        "val_loss, val_accuracy = model.evaluate(X_val, y_val)\n",
        "print(\"Validation Loss:\", val_loss)\n",
        "print(\"Validation Accuracy:\", val_accuracy)"
      ],
      "metadata": {
        "colab": {
          "base_uri": "https://localhost:8080/"
        },
        "id": "tcBYt_kST1z1",
        "outputId": "5ca7b5c8-cf61-48eb-f9f8-65745e6d47c5"
      },
      "execution_count": null,
      "outputs": [
        {
          "output_type": "stream",
          "name": "stdout",
          "text": [
            "1178/1178 [==============================] - 103s 87ms/step - loss: 1.2323 - accuracy: 0.5000\n",
            "Validation Loss: 1.2322641611099243\n",
            "Validation Accuracy: 0.49996018409729004\n"
          ]
        }
      ]
    },
    {
      "cell_type": "code",
      "source": [
        "predictions = model.predict(X_val)\n",
        "import matplotlib.pyplot as plt\n",
        "\n",
        "plt.plot(history.history['loss'], label='Training Loss')\n",
        "plt.plot(history.history['val_loss'], label='Validation Loss')\n",
        "plt.xlabel('Epoch')\n",
        "plt.ylabel('Loss')\n",
        "plt.legend()\n",
        "plt.show()\n",
        "\n",
        "plt.plot(history.history['accuracy'], label='Training Accuracy')\n",
        "plt.plot(history.history['val_accuracy'], label='Validation Accuracy')\n",
        "plt.xlabel('Epoch')\n",
        "plt.ylabel('Accuracy')\n",
        "plt.legend()\n",
        "plt.show()"
      ],
      "metadata": {
        "colab": {
          "base_uri": "https://localhost:8080/",
          "height": 902
        },
        "id": "tPno2Kw96ZfP",
        "outputId": "6c5e41be-c405-4f04-cd00-fab221094fdc"
      },
      "execution_count": null,
      "outputs": [
        {
          "output_type": "stream",
          "name": "stdout",
          "text": [
            "1178/1178 [==============================] - 96s 81ms/step\n"
          ]
        },
        {
          "output_type": "display_data",
          "data": {
            "text/plain": [
              "<Figure size 640x480 with 1 Axes>"
            ],
            "image/png": "[encoded data removed]"
          },
          "metadata": {}
        },
        {
          "output_type": "display_data",
          "data": {
            "text/plain": [
              "<Figure size 640x480 with 1 Axes>"
            ],
            "image/png": "[encoded data removed]"
          },
          "metadata": {}
        }
      ]
    },
    {
      "cell_type": "code",
      "source": [],
      "metadata": {
        "id": "LFJaCdTl69PO"
      },
      "execution_count": null,
      "outputs": []
    }
  ]
}